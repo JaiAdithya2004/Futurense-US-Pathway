{
 "cells": [
  {
   "cell_type": "code",
   "execution_count": 1,
   "id": "5f68d2db-f450-4dc8-83a3-ccd02a63172f",
   "metadata": {},
   "outputs": [],
   "source": [
    "import pandas as pd\n",
    "import numpy as np\n",
    "import seaborn as sns\n",
    "import matplotlib.pyplot as plt"
   ]
  },
  {
   "cell_type": "code",
   "execution_count": 2,
   "id": "eb32a411-22c3-44da-8fe7-4f8d6ffc1090",
   "metadata": {},
   "outputs": [],
   "source": [
    "df = pd.read_excel(r\"C:\\Users\\jaiad\\OneDrive\\Desktop\\FuturensePro\\Leads Generated.xlsx\")"
   ]
  },
  {
   "cell_type": "code",
   "execution_count": 3,
   "id": "ffaba535-90ba-4e48-97d2-b479c200a93a",
   "metadata": {},
   "outputs": [
    {
     "data": {
      "text/html": [
       "<div>\n",
       "<style scoped>\n",
       "    .dataframe tbody tr th:only-of-type {\n",
       "        vertical-align: middle;\n",
       "    }\n",
       "\n",
       "    .dataframe tbody tr th {\n",
       "        vertical-align: top;\n",
       "    }\n",
       "\n",
       "    .dataframe thead th {\n",
       "        text-align: right;\n",
       "    }\n",
       "</style>\n",
       "<table border=\"1\" class=\"dataframe\">\n",
       "  <thead>\n",
       "    <tr style=\"text-align: right;\">\n",
       "      <th></th>\n",
       "      <th>lead_id</th>\n",
       "      <th>created_time</th>\n",
       "      <th>Campaign Name</th>\n",
       "      <th>platform</th>\n",
       "      <th>graduation_degree</th>\n",
       "      <th>graduation_percentage</th>\n",
       "      <th>work_experience</th>\n",
       "      <th>contacted</th>\n",
       "      <th>lsq_lead_stage</th>\n",
       "      <th>lsq_lead_owner</th>\n",
       "      <th>lsq_source</th>\n",
       "    </tr>\n",
       "  </thead>\n",
       "  <tbody>\n",
       "    <tr>\n",
       "      <th>0</th>\n",
       "      <td>l:3587545764833355</td>\n",
       "      <td>2024-05-02 14:18:00</td>\n",
       "      <td>USP_2_Lead-gen-1_220124</td>\n",
       "      <td>Facebook</td>\n",
       "      <td>b.tech_cse</td>\n",
       "      <td>70.0</td>\n",
       "      <td>7</td>\n",
       "      <td>Contacted</td>\n",
       "      <td>Not Interested</td>\n",
       "      <td>Janvi Aggarwal</td>\n",
       "      <td>Facebook</td>\n",
       "    </tr>\n",
       "    <tr>\n",
       "      <th>1</th>\n",
       "      <td>cc0da387-682c-4530-a79a-1168487410f0</td>\n",
       "      <td>2024-04-30 18:00:07</td>\n",
       "      <td>USP_Search_APTNTSKA_250124</td>\n",
       "      <td>Google</td>\n",
       "      <td>B.Tech CSE</td>\n",
       "      <td>80.0</td>\n",
       "      <td>3 Years</td>\n",
       "      <td>NaN</td>\n",
       "      <td>NaN</td>\n",
       "      <td>NaN</td>\n",
       "      <td>NaN</td>\n",
       "    </tr>\n",
       "    <tr>\n",
       "      <th>2</th>\n",
       "      <td>10045c19-1c8d-4d63-a6bf-62d00a2f50ec</td>\n",
       "      <td>2024-03-21 02:25:55</td>\n",
       "      <td>USP_Video_APTLTSKA_Lead-Gen_Keywords_050324</td>\n",
       "      <td>Google</td>\n",
       "      <td>PG</td>\n",
       "      <td>50.0</td>\n",
       "      <td>1 Year</td>\n",
       "      <td>NaN</td>\n",
       "      <td>Invalid phone number</td>\n",
       "      <td>Ankur chandra</td>\n",
       "      <td>GoogleAds</td>\n",
       "    </tr>\n",
       "    <tr>\n",
       "      <th>3</th>\n",
       "      <td>7e0db362-ebc3-4265-9131-d69bae5eb3f5</td>\n",
       "      <td>2024-03-17 06:40:21</td>\n",
       "      <td>USP_Search_APTNTSKA_250124</td>\n",
       "      <td>Google</td>\n",
       "      <td>Others</td>\n",
       "      <td>60.0</td>\n",
       "      <td>Fresher</td>\n",
       "      <td>NaN</td>\n",
       "      <td>Invalid phone number</td>\n",
       "      <td>Chitwan Soni</td>\n",
       "      <td>GoogleAds</td>\n",
       "    </tr>\n",
       "    <tr>\n",
       "      <th>4</th>\n",
       "      <td>5f74bcc1-08a8-414d-a729-69d5071b4f53</td>\n",
       "      <td>2024-03-20 07:48:39</td>\n",
       "      <td>USP_Video_APTLTSKA_Lead-Gen_Websites_050324</td>\n",
       "      <td>Google</td>\n",
       "      <td>UG</td>\n",
       "      <td>100.0</td>\n",
       "      <td>10 Years</td>\n",
       "      <td>NaN</td>\n",
       "      <td>Invalid phone number</td>\n",
       "      <td>Ayush Dixit</td>\n",
       "      <td>GoogleAds</td>\n",
       "    </tr>\n",
       "  </tbody>\n",
       "</table>\n",
       "</div>"
      ],
      "text/plain": [
       "                                lead_id        created_time  \\\n",
       "0                    l:3587545764833355 2024-05-02 14:18:00   \n",
       "1  cc0da387-682c-4530-a79a-1168487410f0 2024-04-30 18:00:07   \n",
       "2  10045c19-1c8d-4d63-a6bf-62d00a2f50ec 2024-03-21 02:25:55   \n",
       "3  7e0db362-ebc3-4265-9131-d69bae5eb3f5 2024-03-17 06:40:21   \n",
       "4  5f74bcc1-08a8-414d-a729-69d5071b4f53 2024-03-20 07:48:39   \n",
       "\n",
       "                                 Campaign Name  platform graduation_degree  \\\n",
       "0                      USP_2_Lead-gen-1_220124  Facebook        b.tech_cse   \n",
       "1                   USP_Search_APTNTSKA_250124    Google        B.Tech CSE   \n",
       "2  USP_Video_APTLTSKA_Lead-Gen_Keywords_050324    Google                PG   \n",
       "3                   USP_Search_APTNTSKA_250124    Google            Others   \n",
       "4  USP_Video_APTLTSKA_Lead-Gen_Websites_050324    Google                UG   \n",
       "\n",
       "   graduation_percentage work_experience  contacted        lsq_lead_stage  \\\n",
       "0                   70.0               7  Contacted        Not Interested   \n",
       "1                   80.0         3 Years        NaN                   NaN   \n",
       "2                   50.0          1 Year        NaN  Invalid phone number   \n",
       "3                   60.0         Fresher        NaN  Invalid phone number   \n",
       "4                  100.0        10 Years        NaN  Invalid phone number   \n",
       "\n",
       "   lsq_lead_owner lsq_source  \n",
       "0  Janvi Aggarwal   Facebook  \n",
       "1             NaN        NaN  \n",
       "2   Ankur chandra  GoogleAds  \n",
       "3    Chitwan Soni  GoogleAds  \n",
       "4     Ayush Dixit  GoogleAds  "
      ]
     },
     "execution_count": 3,
     "metadata": {},
     "output_type": "execute_result"
    }
   ],
   "source": [
    "df.head()"
   ]
  },
  {
   "cell_type": "code",
   "execution_count": 4,
   "id": "3355a63d-0fc4-4b98-867c-9ea1d4cba845",
   "metadata": {},
   "outputs": [
    {
     "name": "stdout",
     "output_type": "stream",
     "text": [
      "<class 'pandas.core.frame.DataFrame'>\n",
      "RangeIndex: 32769 entries, 0 to 32768\n",
      "Data columns (total 11 columns):\n",
      " #   Column                 Non-Null Count  Dtype         \n",
      "---  ------                 --------------  -----         \n",
      " 0   lead_id                32769 non-null  object        \n",
      " 1   created_time           32769 non-null  datetime64[ns]\n",
      " 2   Campaign Name          32722 non-null  object        \n",
      " 3   platform               32769 non-null  object        \n",
      " 4   graduation_degree      32763 non-null  object        \n",
      " 5   graduation_percentage  32764 non-null  float64       \n",
      " 6   work_experience        32762 non-null  object        \n",
      " 7   contacted              30805 non-null  object        \n",
      " 8   lsq_lead_stage         32097 non-null  object        \n",
      " 9   lsq_lead_owner         32162 non-null  object        \n",
      " 10  lsq_source             32004 non-null  object        \n",
      "dtypes: datetime64[ns](1), float64(1), object(9)\n",
      "memory usage: 2.8+ MB\n"
     ]
    }
   ],
   "source": [
    "df.info()"
   ]
  },
  {
   "cell_type": "code",
   "execution_count": 5,
   "id": "ef19862f-72e7-467f-8fd7-1322140692a1",
   "metadata": {},
   "outputs": [
    {
     "data": {
      "text/plain": [
       "(32769, 11)"
      ]
     },
     "execution_count": 5,
     "metadata": {},
     "output_type": "execute_result"
    }
   ],
   "source": [
    "df.shape"
   ]
  },
  {
   "cell_type": "markdown",
   "id": "f9c3e489-988b-45eb-a87a-9838d06b45ca",
   "metadata": {},
   "source": [
    "CLEANING & HANDLING OF NULL VALUES"
   ]
  },
  {
   "cell_type": "code",
   "execution_count": 11,
   "id": "feb7df2c-4285-484c-9259-b2fcd841bfca",
   "metadata": {},
   "outputs": [
    {
     "data": {
      "text/plain": [
       "lead_id                     0\n",
       "created_time                0\n",
       "Campaign Name              47\n",
       "platform                    0\n",
       "graduation_degree           6\n",
       "graduation_percentage       5\n",
       "work_experience             7\n",
       "contacted                1964\n",
       "lsq_lead_stage            672\n",
       "lsq_lead_owner            607\n",
       "lsq_source                765\n",
       "dtype: int64"
      ]
     },
     "execution_count": 11,
     "metadata": {},
     "output_type": "execute_result"
    }
   ],
   "source": [
    "df.isnull().sum()"
   ]
  },
  {
   "cell_type": "code",
   "execution_count": 13,
   "id": "bb24c20c-e87c-4ffd-9503-632e53c37813",
   "metadata": {},
   "outputs": [
    {
     "data": {
      "text/plain": [
       "lead_id                          object\n",
       "created_time             datetime64[ns]\n",
       "Campaign Name                    object\n",
       "platform                         object\n",
       "graduation_degree                object\n",
       "graduation_percentage           float64\n",
       "work_experience                  object\n",
       "contacted                        object\n",
       "lsq_lead_stage                   object\n",
       "lsq_lead_owner                   object\n",
       "lsq_source                       object\n",
       "dtype: object"
      ]
     },
     "execution_count": 13,
     "metadata": {},
     "output_type": "execute_result"
    }
   ],
   "source": [
    "df.dtypes"
   ]
  },
  {
   "cell_type": "code",
   "execution_count": 15,
   "id": "7a301c87-c503-4820-bbbb-74f344fa9f00",
   "metadata": {},
   "outputs": [
    {
     "data": {
      "text/html": [
       "<div>\n",
       "<style scoped>\n",
       "    .dataframe tbody tr th:only-of-type {\n",
       "        vertical-align: middle;\n",
       "    }\n",
       "\n",
       "    .dataframe tbody tr th {\n",
       "        vertical-align: top;\n",
       "    }\n",
       "\n",
       "    .dataframe thead th {\n",
       "        text-align: right;\n",
       "    }\n",
       "</style>\n",
       "<table border=\"1\" class=\"dataframe\">\n",
       "  <thead>\n",
       "    <tr style=\"text-align: right;\">\n",
       "      <th></th>\n",
       "      <th>lead_id</th>\n",
       "      <th>created_time</th>\n",
       "      <th>Campaign Name</th>\n",
       "      <th>platform</th>\n",
       "      <th>graduation_degree</th>\n",
       "      <th>graduation_percentage</th>\n",
       "      <th>work_experience</th>\n",
       "      <th>contacted</th>\n",
       "      <th>lsq_lead_stage</th>\n",
       "      <th>lsq_lead_owner</th>\n",
       "      <th>lsq_source</th>\n",
       "    </tr>\n",
       "  </thead>\n",
       "  <tbody>\n",
       "    <tr>\n",
       "      <th>0</th>\n",
       "      <td>l:3587545764833355</td>\n",
       "      <td>2024-05-02 14:18:00</td>\n",
       "      <td>USP_2_Lead-gen-1_220124</td>\n",
       "      <td>Facebook</td>\n",
       "      <td>b.tech_cse</td>\n",
       "      <td>70.0</td>\n",
       "      <td>7</td>\n",
       "      <td>Contacted</td>\n",
       "      <td>Not Interested</td>\n",
       "      <td>Janvi Aggarwal</td>\n",
       "      <td>Facebook</td>\n",
       "    </tr>\n",
       "    <tr>\n",
       "      <th>1</th>\n",
       "      <td>cc0da387-682c-4530-a79a-1168487410f0</td>\n",
       "      <td>2024-04-30 18:00:07</td>\n",
       "      <td>USP_Search_APTNTSKA_250124</td>\n",
       "      <td>Google</td>\n",
       "      <td>B.Tech CSE</td>\n",
       "      <td>80.0</td>\n",
       "      <td>3 Years</td>\n",
       "      <td>NaN</td>\n",
       "      <td>NaN</td>\n",
       "      <td>NaN</td>\n",
       "      <td>NaN</td>\n",
       "    </tr>\n",
       "    <tr>\n",
       "      <th>2</th>\n",
       "      <td>10045c19-1c8d-4d63-a6bf-62d00a2f50ec</td>\n",
       "      <td>2024-03-21 02:25:55</td>\n",
       "      <td>USP_Video_APTLTSKA_Lead-Gen_Keywords_050324</td>\n",
       "      <td>Google</td>\n",
       "      <td>PG</td>\n",
       "      <td>50.0</td>\n",
       "      <td>1 Year</td>\n",
       "      <td>NaN</td>\n",
       "      <td>Invalid phone number</td>\n",
       "      <td>Ankur chandra</td>\n",
       "      <td>GoogleAds</td>\n",
       "    </tr>\n",
       "    <tr>\n",
       "      <th>3</th>\n",
       "      <td>7e0db362-ebc3-4265-9131-d69bae5eb3f5</td>\n",
       "      <td>2024-03-17 06:40:21</td>\n",
       "      <td>USP_Search_APTNTSKA_250124</td>\n",
       "      <td>Google</td>\n",
       "      <td>Others</td>\n",
       "      <td>60.0</td>\n",
       "      <td>Fresher</td>\n",
       "      <td>NaN</td>\n",
       "      <td>Invalid phone number</td>\n",
       "      <td>Chitwan Soni</td>\n",
       "      <td>GoogleAds</td>\n",
       "    </tr>\n",
       "    <tr>\n",
       "      <th>4</th>\n",
       "      <td>5f74bcc1-08a8-414d-a729-69d5071b4f53</td>\n",
       "      <td>2024-03-20 07:48:39</td>\n",
       "      <td>USP_Video_APTLTSKA_Lead-Gen_Websites_050324</td>\n",
       "      <td>Google</td>\n",
       "      <td>UG</td>\n",
       "      <td>100.0</td>\n",
       "      <td>10 Years</td>\n",
       "      <td>NaN</td>\n",
       "      <td>Invalid phone number</td>\n",
       "      <td>Ayush Dixit</td>\n",
       "      <td>GoogleAds</td>\n",
       "    </tr>\n",
       "  </tbody>\n",
       "</table>\n",
       "</div>"
      ],
      "text/plain": [
       "                                lead_id        created_time  \\\n",
       "0                    l:3587545764833355 2024-05-02 14:18:00   \n",
       "1  cc0da387-682c-4530-a79a-1168487410f0 2024-04-30 18:00:07   \n",
       "2  10045c19-1c8d-4d63-a6bf-62d00a2f50ec 2024-03-21 02:25:55   \n",
       "3  7e0db362-ebc3-4265-9131-d69bae5eb3f5 2024-03-17 06:40:21   \n",
       "4  5f74bcc1-08a8-414d-a729-69d5071b4f53 2024-03-20 07:48:39   \n",
       "\n",
       "                                 Campaign Name  platform graduation_degree  \\\n",
       "0                      USP_2_Lead-gen-1_220124  Facebook        b.tech_cse   \n",
       "1                   USP_Search_APTNTSKA_250124    Google        B.Tech CSE   \n",
       "2  USP_Video_APTLTSKA_Lead-Gen_Keywords_050324    Google                PG   \n",
       "3                   USP_Search_APTNTSKA_250124    Google            Others   \n",
       "4  USP_Video_APTLTSKA_Lead-Gen_Websites_050324    Google                UG   \n",
       "\n",
       "   graduation_percentage work_experience  contacted        lsq_lead_stage  \\\n",
       "0                   70.0               7  Contacted        Not Interested   \n",
       "1                   80.0         3 Years        NaN                   NaN   \n",
       "2                   50.0          1 Year        NaN  Invalid phone number   \n",
       "3                   60.0         Fresher        NaN  Invalid phone number   \n",
       "4                  100.0        10 Years        NaN  Invalid phone number   \n",
       "\n",
       "   lsq_lead_owner lsq_source  \n",
       "0  Janvi Aggarwal   Facebook  \n",
       "1             NaN        NaN  \n",
       "2   Ankur chandra  GoogleAds  \n",
       "3    Chitwan Soni  GoogleAds  \n",
       "4     Ayush Dixit  GoogleAds  "
      ]
     },
     "execution_count": 15,
     "metadata": {},
     "output_type": "execute_result"
    }
   ],
   "source": [
    "df.head()"
   ]
  },
  {
   "cell_type": "code",
   "execution_count": 17,
   "id": "99e51731-f2c5-41d8-a2ba-0b84663938a4",
   "metadata": {},
   "outputs": [
    {
     "name": "stderr",
     "output_type": "stream",
     "text": [
      "C:\\Users\\jaiad\\AppData\\Local\\Temp\\ipykernel_6728\\2119296837.py:2: FutureWarning: Series.fillna with 'method' is deprecated and will raise in a future version. Use obj.ffill() or obj.bfill() instead.\n",
      "  df['Campaign Name'] = df['Campaign Name'].fillna(method='ffill').fillna(method='bfill')\n"
     ]
    }
   ],
   "source": [
    "#Filled with the Nearby values for campaign Name\n",
    "df['Campaign Name'] = df['Campaign Name'].fillna(method='ffill').fillna(method='bfill')"
   ]
  },
  {
   "cell_type": "code",
   "execution_count": 19,
   "id": "0aa7756a-d254-4df8-92ee-31fe911378fa",
   "metadata": {},
   "outputs": [
    {
     "data": {
      "text/plain": [
       "lead_id                     0\n",
       "created_time                0\n",
       "Campaign Name               0\n",
       "platform                    0\n",
       "graduation_degree           6\n",
       "graduation_percentage       5\n",
       "work_experience             7\n",
       "contacted                1964\n",
       "lsq_lead_stage            672\n",
       "lsq_lead_owner            607\n",
       "lsq_source                765\n",
       "dtype: int64"
      ]
     },
     "execution_count": 19,
     "metadata": {},
     "output_type": "execute_result"
    }
   ],
   "source": [
    "df.isnull().sum()"
   ]
  },
  {
   "cell_type": "code",
   "execution_count": 21,
   "id": "d0c102ec-8b70-4847-9185-522ec32d624a",
   "metadata": {},
   "outputs": [
    {
     "name": "stderr",
     "output_type": "stream",
     "text": [
      "C:\\Users\\jaiad\\AppData\\Local\\Temp\\ipykernel_6728\\341829977.py:3: FutureWarning: A value is trying to be set on a copy of a DataFrame or Series through chained assignment using an inplace method.\n",
      "The behavior will change in pandas 3.0. This inplace method will never work because the intermediate object on which we are setting values always behaves as a copy.\n",
      "\n",
      "For example, when doing 'df[col].method(value, inplace=True)', try using 'df.method({col: value}, inplace=True)' or df[col] = df[col].method(value) instead, to perform the operation inplace on the original object.\n",
      "\n",
      "\n",
      "  df['graduation_degree'].fillna(mode_graduation_degree, inplace=True)\n"
     ]
    }
   ],
   "source": [
    "#Mode for graduation degree\n",
    "mode_graduation_degree = df['graduation_degree'].mode()[0]\n",
    "df['graduation_degree'].fillna(mode_graduation_degree, inplace=True)"
   ]
  },
  {
   "cell_type": "code",
   "execution_count": 23,
   "id": "fd4f4367-9cec-4559-a96d-be33d1ea2b48",
   "metadata": {},
   "outputs": [
    {
     "data": {
      "text/plain": [
       "lead_id                     0\n",
       "created_time                0\n",
       "Campaign Name               0\n",
       "platform                    0\n",
       "graduation_degree           0\n",
       "graduation_percentage       5\n",
       "work_experience             7\n",
       "contacted                1964\n",
       "lsq_lead_stage            672\n",
       "lsq_lead_owner            607\n",
       "lsq_source                765\n",
       "dtype: int64"
      ]
     },
     "execution_count": 23,
     "metadata": {},
     "output_type": "execute_result"
    }
   ],
   "source": [
    "df.isnull().sum()"
   ]
  },
  {
   "cell_type": "code",
   "execution_count": 25,
   "id": "a7d306b9-21aa-4977-ad66-05d82b49dd06",
   "metadata": {},
   "outputs": [
    {
     "name": "stderr",
     "output_type": "stream",
     "text": [
      "C:\\Users\\jaiad\\AppData\\Local\\Temp\\ipykernel_6728\\1687571966.py:2: FutureWarning: A value is trying to be set on a copy of a DataFrame or Series through chained assignment using an inplace method.\n",
      "The behavior will change in pandas 3.0. This inplace method will never work because the intermediate object on which we are setting values always behaves as a copy.\n",
      "\n",
      "For example, when doing 'df[col].method(value, inplace=True)', try using 'df.method({col: value}, inplace=True)' or df[col] = df[col].method(value) instead, to perform the operation inplace on the original object.\n",
      "\n",
      "\n",
      "  df['graduation_percentage'].fillna(df['graduation_percentage'].mean(), inplace=True)\n"
     ]
    }
   ],
   "source": [
    "#Mean for graduationpercentage\n",
    "df['graduation_percentage'].fillna(df['graduation_percentage'].mean(), inplace=True)"
   ]
  },
  {
   "cell_type": "code",
   "execution_count": 27,
   "id": "a5350576-d3f0-4324-af88-43b8ef370c21",
   "metadata": {},
   "outputs": [
    {
     "name": "stderr",
     "output_type": "stream",
     "text": [
      "C:\\Users\\jaiad\\AppData\\Local\\Temp\\ipykernel_6728\\3690492996.py:3: FutureWarning: A value is trying to be set on a copy of a DataFrame or Series through chained assignment using an inplace method.\n",
      "The behavior will change in pandas 3.0. This inplace method will never work because the intermediate object on which we are setting values always behaves as a copy.\n",
      "\n",
      "For example, when doing 'df[col].method(value, inplace=True)', try using 'df.method({col: value}, inplace=True)' or df[col] = df[col].method(value) instead, to perform the operation inplace on the original object.\n",
      "\n",
      "\n",
      "  df['work_experience'].fillna(mode_work_experience, inplace=True)\n"
     ]
    }
   ],
   "source": [
    "#Mode for work_experience\n",
    "mode_work_experience = df['work_experience'].mode()[0]\n",
    "df['work_experience'].fillna(mode_work_experience, inplace=True)"
   ]
  },
  {
   "cell_type": "code",
   "execution_count": 29,
   "id": "91810c35-2c06-4b4b-a163-f727e74d3a52",
   "metadata": {},
   "outputs": [
    {
     "data": {
      "text/plain": [
       "lead_id                     0\n",
       "created_time                0\n",
       "Campaign Name               0\n",
       "platform                    0\n",
       "graduation_degree           0\n",
       "graduation_percentage       0\n",
       "work_experience             0\n",
       "contacted                1964\n",
       "lsq_lead_stage            672\n",
       "lsq_lead_owner            607\n",
       "lsq_source                765\n",
       "dtype: int64"
      ]
     },
     "execution_count": 29,
     "metadata": {},
     "output_type": "execute_result"
    }
   ],
   "source": [
    "df.isnull().sum()"
   ]
  },
  {
   "cell_type": "code",
   "execution_count": 31,
   "id": "2fa54510-4192-4719-8917-780a87d4fc9c",
   "metadata": {},
   "outputs": [
    {
     "data": {
      "image/png": "[encoded data removed]",
      "text/plain": [
       "<Figure size 1000x600 with 1 Axes>"
      ]
     },
     "metadata": {},
     "output_type": "display_data"
    }
   ],
   "source": [
    "#Checking for outlier in the Graduation ercentage column\n",
    "sns.set(style=\"whitegrid\")\n",
    "plt.figure(figsize=(10, 6))\n",
    "sns.boxplot(df['graduation_percentage'])\n",
    "plt.title('Box Plot of Graduation Percentage')\n",
    "plt.xlabel('Graduation Percentage')\n",
    "plt.show()"
   ]
  },
  {
   "cell_type": "code",
   "execution_count": null,
   "id": "f211f13b-1477-44dc-a76e-bbb77dc1cfe1",
   "metadata": {},
   "outputs": [],
   "source": [
    "#Replaced \n",
    "df['lsq_lead_stage'] = df['lsq_lead_stage'].replace('Invalid', 'Invalid phone number')\n",
    "df['lsq_lead_stage'] = df['lsq_lead_stage'].replace(['Connected/ Not Interested', 'Not Intrested'], 'Cold')"
   ]
  },
  {
   "cell_type": "code",
   "execution_count": 35,
   "id": "d01642e3-77df-4d86-997c-801cdd9bc9d9",
   "metadata": {},
   "outputs": [
    {
     "data": {
      "text/html": [
       "<div>\n",
       "<style scoped>\n",
       "    .dataframe tbody tr th:only-of-type {\n",
       "        vertical-align: middle;\n",
       "    }\n",
       "\n",
       "    .dataframe tbody tr th {\n",
       "        vertical-align: top;\n",
       "    }\n",
       "\n",
       "    .dataframe thead th {\n",
       "        text-align: right;\n",
       "    }\n",
       "</style>\n",
       "<table border=\"1\" class=\"dataframe\">\n",
       "  <thead>\n",
       "    <tr style=\"text-align: right;\">\n",
       "      <th></th>\n",
       "      <th>lead_id</th>\n",
       "      <th>created_time</th>\n",
       "      <th>Campaign Name</th>\n",
       "      <th>platform</th>\n",
       "      <th>graduation_degree</th>\n",
       "      <th>graduation_percentage</th>\n",
       "      <th>work_experience</th>\n",
       "      <th>contacted</th>\n",
       "      <th>lsq_lead_stage</th>\n",
       "      <th>lsq_lead_owner</th>\n",
       "      <th>lsq_source</th>\n",
       "    </tr>\n",
       "  </thead>\n",
       "  <tbody>\n",
       "    <tr>\n",
       "      <th>0</th>\n",
       "      <td>l:3587545764833355</td>\n",
       "      <td>2024-05-02 14:18:00</td>\n",
       "      <td>USP_2_Lead-gen-1_220124</td>\n",
       "      <td>Facebook</td>\n",
       "      <td>b.tech_cse</td>\n",
       "      <td>70.0</td>\n",
       "      <td>7</td>\n",
       "      <td>Contacted</td>\n",
       "      <td>Not Interested</td>\n",
       "      <td>Janvi Aggarwal</td>\n",
       "      <td>Facebook</td>\n",
       "    </tr>\n",
       "    <tr>\n",
       "      <th>1</th>\n",
       "      <td>cc0da387-682c-4530-a79a-1168487410f0</td>\n",
       "      <td>2024-04-30 18:00:07</td>\n",
       "      <td>USP_Search_APTNTSKA_250124</td>\n",
       "      <td>Google</td>\n",
       "      <td>B.Tech CSE</td>\n",
       "      <td>80.0</td>\n",
       "      <td>3 Years</td>\n",
       "      <td>NaN</td>\n",
       "      <td>NaN</td>\n",
       "      <td>NaN</td>\n",
       "      <td>NaN</td>\n",
       "    </tr>\n",
       "    <tr>\n",
       "      <th>2</th>\n",
       "      <td>10045c19-1c8d-4d63-a6bf-62d00a2f50ec</td>\n",
       "      <td>2024-03-21 02:25:55</td>\n",
       "      <td>USP_Video_APTLTSKA_Lead-Gen_Keywords_050324</td>\n",
       "      <td>Google</td>\n",
       "      <td>PG</td>\n",
       "      <td>50.0</td>\n",
       "      <td>1 Year</td>\n",
       "      <td>NaN</td>\n",
       "      <td>Invalid phone number</td>\n",
       "      <td>Ankur chandra</td>\n",
       "      <td>GoogleAds</td>\n",
       "    </tr>\n",
       "    <tr>\n",
       "      <th>3</th>\n",
       "      <td>7e0db362-ebc3-4265-9131-d69bae5eb3f5</td>\n",
       "      <td>2024-03-17 06:40:21</td>\n",
       "      <td>USP_Search_APTNTSKA_250124</td>\n",
       "      <td>Google</td>\n",
       "      <td>Others</td>\n",
       "      <td>60.0</td>\n",
       "      <td>Fresher</td>\n",
       "      <td>NaN</td>\n",
       "      <td>Invalid phone number</td>\n",
       "      <td>Chitwan Soni</td>\n",
       "      <td>GoogleAds</td>\n",
       "    </tr>\n",
       "    <tr>\n",
       "      <th>4</th>\n",
       "      <td>5f74bcc1-08a8-414d-a729-69d5071b4f53</td>\n",
       "      <td>2024-03-20 07:48:39</td>\n",
       "      <td>USP_Video_APTLTSKA_Lead-Gen_Websites_050324</td>\n",
       "      <td>Google</td>\n",
       "      <td>UG</td>\n",
       "      <td>100.0</td>\n",
       "      <td>10 Years</td>\n",
       "      <td>NaN</td>\n",
       "      <td>Invalid phone number</td>\n",
       "      <td>Ayush Dixit</td>\n",
       "      <td>GoogleAds</td>\n",
       "    </tr>\n",
       "  </tbody>\n",
       "</table>\n",
       "</div>"
      ],
      "text/plain": [
       "                                lead_id        created_time  \\\n",
       "0                    l:3587545764833355 2024-05-02 14:18:00   \n",
       "1  cc0da387-682c-4530-a79a-1168487410f0 2024-04-30 18:00:07   \n",
       "2  10045c19-1c8d-4d63-a6bf-62d00a2f50ec 2024-03-21 02:25:55   \n",
       "3  7e0db362-ebc3-4265-9131-d69bae5eb3f5 2024-03-17 06:40:21   \n",
       "4  5f74bcc1-08a8-414d-a729-69d5071b4f53 2024-03-20 07:48:39   \n",
       "\n",
       "                                 Campaign Name  platform graduation_degree  \\\n",
       "0                      USP_2_Lead-gen-1_220124  Facebook        b.tech_cse   \n",
       "1                   USP_Search_APTNTSKA_250124    Google        B.Tech CSE   \n",
       "2  USP_Video_APTLTSKA_Lead-Gen_Keywords_050324    Google                PG   \n",
       "3                   USP_Search_APTNTSKA_250124    Google            Others   \n",
       "4  USP_Video_APTLTSKA_Lead-Gen_Websites_050324    Google                UG   \n",
       "\n",
       "   graduation_percentage work_experience  contacted        lsq_lead_stage  \\\n",
       "0                   70.0               7  Contacted        Not Interested   \n",
       "1                   80.0         3 Years        NaN                   NaN   \n",
       "2                   50.0          1 Year        NaN  Invalid phone number   \n",
       "3                   60.0         Fresher        NaN  Invalid phone number   \n",
       "4                  100.0        10 Years        NaN  Invalid phone number   \n",
       "\n",
       "   lsq_lead_owner lsq_source  \n",
       "0  Janvi Aggarwal   Facebook  \n",
       "1             NaN        NaN  \n",
       "2   Ankur chandra  GoogleAds  \n",
       "3    Chitwan Soni  GoogleAds  \n",
       "4     Ayush Dixit  GoogleAds  "
      ]
     },
     "execution_count": 35,
     "metadata": {},
     "output_type": "execute_result"
    }
   ],
   "source": [
    "df.head()"
   ]
  },
  {
   "cell_type": "code",
   "execution_count": 37,
   "id": "b6f5cb0a-de86-46de-a356-b55b82b9242b",
   "metadata": {},
   "outputs": [],
   "source": [
    "#updates the 'contacted' column based on values in the 'lsq_lead_stage' column, marking entries as 'not contacted' if they are 'invalid number', 'invalid', or 'Wrong Number', and 'contacted' otherwise\n",
    "df['contacted'] = df['lsq_lead_stage'].apply(\n",
    "    lambda x: 'not contacted' if x in ['Invalid phone number'] else 'contacted'\n",
    ")"
   ]
  },
  {
   "cell_type": "code",
   "execution_count": 39,
   "id": "06b79b18-5107-4da8-bafd-cb1fb85f5a11",
   "metadata": {},
   "outputs": [],
   "source": [
    "# Fill null values with 'Unknown' in these columns \n",
    "df['lsq_lead_stage'] = df['lsq_lead_stage'].fillna('Unknown')\n",
    "df['lsq_lead_owner']=df['lsq_lead_owner'].fillna('Unknown')\n",
    "df['lsq_source']=df['lsq_source'].fillna('Unknown')\n"
   ]
  },
  {
   "cell_type": "code",
   "execution_count": 41,
   "id": "13697706-461d-47d2-9139-0813870a1105",
   "metadata": {},
   "outputs": [
    {
     "data": {
      "text/plain": [
       "lead_id                  0\n",
       "created_time             0\n",
       "Campaign Name            0\n",
       "platform                 0\n",
       "graduation_degree        0\n",
       "graduation_percentage    0\n",
       "work_experience          0\n",
       "contacted                0\n",
       "lsq_lead_stage           0\n",
       "lsq_lead_owner           0\n",
       "lsq_source               0\n",
       "dtype: int64"
      ]
     },
     "execution_count": 41,
     "metadata": {},
     "output_type": "execute_result"
    }
   ],
   "source": [
    "df.isnull().sum()"
   ]
  },
  {
   "cell_type": "code",
   "execution_count": 120,
   "id": "6d7a1039-f0f8-4b7c-860b-b41dd4e6f670",
   "metadata": {},
   "outputs": [],
   "source": [
    "#df.to_excel('Updated_data.xlsx', index=False)"
   ]
  },
  {
   "cell_type": "code",
   "execution_count": 43,
   "id": "3c5497fc-974a-47c8-9942-a1e062a124e5",
   "metadata": {},
   "outputs": [
    {
     "data": {
      "text/plain": [
       "lead_id                  0\n",
       "created_time             0\n",
       "Campaign Name            0\n",
       "platform                 0\n",
       "graduation_degree        0\n",
       "graduation_percentage    0\n",
       "work_experience          0\n",
       "contacted                0\n",
       "lsq_lead_stage           0\n",
       "lsq_lead_owner           0\n",
       "lsq_source               0\n",
       "dtype: int64"
      ]
     },
     "execution_count": 43,
     "metadata": {},
     "output_type": "execute_result"
    }
   ],
   "source": [
    "df.isnull().sum()"
   ]
  }
 ],
 "metadata": {
  "kernelspec": {
   "display_name": "Python 3",
   "language": "python",
   "name": "python3"
  },
  "language_info": {
   "codemirror_mode": {
    "name": "ipython",
    "version": 3
   },
   "file_extension": ".py",
   "mimetype": "text/x-python",
   "name": "python",
   "nbconvert_exporter": "python",
   "pygments_lexer": "ipython3",
   "version": "3.11.9"
  }
 },
 "nbformat": 4,
 "nbformat_minor": 5
}
